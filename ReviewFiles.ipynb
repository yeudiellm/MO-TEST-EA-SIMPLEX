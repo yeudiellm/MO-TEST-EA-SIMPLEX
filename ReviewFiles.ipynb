{
 "cells": [
  {
   "cell_type": "code",
   "execution_count": 1,
   "metadata": {},
   "outputs": [],
   "source": [
    "import os \n",
    "import pandas as pd"
   ]
  },
  {
   "cell_type": "code",
   "execution_count": 2,
   "metadata": {},
   "outputs": [
    {
     "name": "stdout",
     "output_type": "stream",
     "text": [
      "  problem      type    method   file           algorithm\n",
      "0   dtlz1  baseline  baseline  F.npy  Solutions\\age_moea\n",
      "1   dtlz1  baseline  baseline  X.npy  Solutions\\age_moea\n",
      "  problem      type    method   file        algorithm\n",
      "0   dtlz1  baseline  baseline  F.npy  Solutions\\moead\n",
      "1   dtlz1  baseline  baseline  X.npy  Solutions\\moead\n",
      "  problem      type    method   file         algorithm\n",
      "0   dtlz1  baseline  baseline  F.npy  Solutions\\nsgaii\n",
      "1   dtlz1  baseline  baseline  X.npy  Solutions\\nsgaii\n",
      "  problem      type    method   file          algorithm\n",
      "0   dtlz1  baseline  baseline  F.npy  Solutions\\nsgaiii\n",
      "1   dtlz1  baseline  baseline  X.npy  Solutions\\nsgaiii\n",
      "  problem      type    method   file           algorithm\n",
      "0   dtlz1  baseline  baseline  F.npy  Solutions\\sms_emoa\n",
      "1   dtlz1  baseline  baseline  X.npy  Solutions\\sms_emoa\n"
     ]
    }
   ],
   "source": [
    "main_folder = 'Solutions'\n",
    "# Get all subfolders\n",
    "subfolders = [os.path.join(main_folder, name) for name in os.listdir(main_folder)\n",
    "                  if os.path.isdir(os.path.join(main_folder, name))]\n",
    "list_dataframes = []\n",
    "for folder in subfolders: \n",
    "    files = os.listdir(folder)\n",
    "    files = [f.replace('baseline', 'baseline_baseline') for f in files]\n",
    "    files = [str(f).split('_') for f in files]\n",
    "    df =pd.DataFrame(files)\n",
    "    df.columns = ['problem', 'type', 'method', 'file']\n",
    "    df['algorithm'] = str(folder)\n",
    "    print(df.head(2))\n",
    "    list_dataframes.append(df.copy())\n"
   ]
  },
  {
   "cell_type": "code",
   "execution_count": 3,
   "metadata": {},
   "outputs": [],
   "source": [
    "df_full =pd.concat(list_dataframes)"
   ]
  },
  {
   "cell_type": "code",
   "execution_count": 4,
   "metadata": {},
   "outputs": [
    {
     "data": {
      "text/plain": [
       "algorithm\n",
       "Solutions\\age_moea    378\n",
       "Solutions\\moead       378\n",
       "Solutions\\nsgaii      378\n",
       "Solutions\\nsgaiii     378\n",
       "Solutions\\sms_emoa    152\n",
       "Name: count, dtype: int64"
      ]
     },
     "execution_count": 4,
     "metadata": {},
     "output_type": "execute_result"
    }
   ],
   "source": [
    "df_full['algorithm'].value_counts()"
   ]
  },
  {
   "cell_type": "code",
   "execution_count": 5,
   "metadata": {},
   "outputs": [
    {
     "data": {
      "text/plain": [
       "method\n",
       "baseline       42\n",
       "dirichlet      42\n",
       "exponential    42\n",
       "lognormal      42\n",
       "normal         42\n",
       "energy         42\n",
       "mssd           42\n",
       "redd           42\n",
       "uniform        42\n",
       "Name: count, dtype: int64"
      ]
     },
     "execution_count": 5,
     "metadata": {},
     "output_type": "execute_result"
    }
   ],
   "source": [
    "df_full[df_full['algorithm'] == 'Solutions\\\\nsgaii']['method'].value_counts()"
   ]
  },
  {
   "cell_type": "code",
   "execution_count": 6,
   "metadata": {},
   "outputs": [
    {
     "data": {
      "text/plain": [
       "method\n",
       "baseline     42\n",
       "energy       42\n",
       "mssd         42\n",
       "dirichlet    26\n",
       "Name: count, dtype: int64"
      ]
     },
     "execution_count": 6,
     "metadata": {},
     "output_type": "execute_result"
    }
   ],
   "source": [
    "df_full[df_full['algorithm'] == 'Solutions\\\\sms_emoa']['method'].value_counts()"
   ]
  },
  {
   "cell_type": "code",
   "execution_count": 7,
   "metadata": {},
   "outputs": [
    {
     "data": {
      "text/plain": [
       "problem\n",
       "dtlz1    8\n",
       "wfg3     8\n",
       "wfg9     8\n",
       "wfg8     8\n",
       "wfg7     8\n",
       "wfg6     8\n",
       "wfg5     8\n",
       "dtlz2    8\n",
       "wfg4     8\n",
       "wfg2     8\n",
       "wfg1     8\n",
       "dtlz4    8\n",
       "dtlz3    8\n",
       "dtlz7    6\n",
       "dtlz6    6\n",
       "dtlz5    6\n",
       "zdt1     6\n",
       "zdt2     6\n",
       "zdt3     6\n",
       "zdt4     6\n",
       "zdt6     6\n",
       "Name: count, dtype: int64"
      ]
     },
     "execution_count": 7,
     "metadata": {},
     "output_type": "execute_result"
    }
   ],
   "source": [
    "df_full[df_full['algorithm'] == 'Solutions\\\\sms_emoa']['problem'].value_counts()"
   ]
  }
 ],
 "metadata": {
  "kernelspec": {
   "display_name": "Python 3",
   "language": "python",
   "name": "python3"
  },
  "language_info": {
   "codemirror_mode": {
    "name": "ipython",
    "version": 3
   },
   "file_extension": ".py",
   "mimetype": "text/x-python",
   "name": "python",
   "nbconvert_exporter": "python",
   "pygments_lexer": "ipython3",
   "version": "3.10.8"
  }
 },
 "nbformat": 4,
 "nbformat_minor": 2
}
