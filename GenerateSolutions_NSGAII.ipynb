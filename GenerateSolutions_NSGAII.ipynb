{
 "cells": [
  {
   "cell_type": "markdown",
   "metadata": {},
   "source": [
    "# Notebook de Testing\n",
    "\n",
    "## Bibliotecas"
   ]
  },
  {
   "cell_type": "code",
   "execution_count": 3,
   "metadata": {},
   "outputs": [
    {
     "name": "stderr",
     "output_type": "stream",
     "text": [
      "c:\\Users\\yeudi\\AppData\\Local\\Programs\\Python\\Python310\\lib\\site-packages\\pymoo\\algorithms\\moo\\age.py:212: NumbaDeprecationWarning: \u001b[1mThe 'nopython' keyword argument was not supplied to the 'numba.jit' decorator. The implicit default value for this argument is currently False, but it will be changed to True in Numba 0.59.0. See https://numba.readthedocs.io/en/stable/reference/deprecation.html#deprecation-of-object-mode-fall-back-behaviour-when-using-jit for details.\u001b[0m\n",
      "  @jit(fastmath=True)\n",
      "c:\\Users\\yeudi\\AppData\\Local\\Programs\\Python\\Python310\\lib\\site-packages\\pymoo\\algorithms\\moo\\age.py:222: NumbaDeprecationWarning: \u001b[1mThe 'nopython' keyword argument was not supplied to the 'numba.jit' decorator. The implicit default value for this argument is currently False, but it will be changed to True in Numba 0.59.0. See https://numba.readthedocs.io/en/stable/reference/deprecation.html#deprecation-of-object-mode-fall-back-behaviour-when-using-jit for details.\u001b[0m\n",
      "  @jit(fastmath=True)\n",
      "c:\\Users\\yeudi\\AppData\\Local\\Programs\\Python\\Python310\\lib\\site-packages\\pymoo\\algorithms\\moo\\age.py:257: NumbaDeprecationWarning: \u001b[1mThe 'nopython' keyword argument was not supplied to the 'numba.jit' decorator. The implicit default value for this argument is currently False, but it will be changed to True in Numba 0.59.0. See https://numba.readthedocs.io/en/stable/reference/deprecation.html#deprecation-of-object-mode-fall-back-behaviour-when-using-jit for details.\u001b[0m\n",
      "  @jit(fastmath=True)\n"
     ]
    }
   ],
   "source": [
    "#Básicos para manipulacion de datos \n",
    "import pandas as pd\n",
    "import numpy as np\n",
    "#Graficas \n",
    "import matplotlib.pyplot as plt\n",
    "import seaborn as sns\n",
    "sns.set_theme()\n",
    "#Auxiliares\n",
    "from tqdm import tqdm\n",
    "from itertools import compress\n",
    "from sklearn.preprocessing import MinMaxScaler\n",
    "#Optimización multiobjetivo \n",
    "from pymoo.optimize import minimize\n",
    "from pymoo.core.repair import Repair\n",
    "#Algoritmos evolutivos\n",
    "from pymoo.algorithms.moo.nsga2 import NSGA2\n",
    "from pymoo.algorithms.moo.nsga3 import NSGA3\n",
    "from pymoo.algorithms.moo.age import AGEMOEA\n",
    "from pymoo.algorithms.moo.sms import SMSEMOA\n",
    "#Operadores \n",
    "from pymoo.visualization.scatter import Scatter\n",
    "#Features pymoo api \n",
    "from pymoo.problems import get_problem\n",
    "from pymoo.termination import get_termination\n",
    "from pymoo.problems import get_problem\n",
    "from pymoo.util.ref_dirs import get_reference_directions\n",
    "#Indicadores\n",
    "from pymoo.indicators.hv import HV\n",
    "#Población (soluciones)\n",
    "from pymoo.core.population import Population\n",
    "\n",
    "#Plugins \n",
    "from Plugins import pymoo_utils\n",
    "from Plugins import archieving_strategies\n",
    "from Plugins import operators"
   ]
  },
  {
   "cell_type": "markdown",
   "metadata": {},
   "source": [
    "## Problems Definitions"
   ]
  },
  {
   "cell_type": "code",
   "execution_count": 4,
   "metadata": {},
   "outputs": [],
   "source": [
    "#WFG Problems \n",
    "wfg_problems = ['wfg1', 'wfg2', 'wfg3', 'wfg4', 'wfg5', 'wfg6', 'wfg7', 'wfg8', 'wfg9']\n",
    "wfg_vars     = [24]*len(wfg_problems)\n",
    "wfg_obj      = [3]*len(wfg_problems)\n",
    "#DTLZ Problems \n",
    "dtlz_problems = ['dtlz1', 'dtlz2', 'dtlz3', 'dtlz4', 'dtlz5', 'dtlz6', 'dtlz7']\n",
    "dtlz_vars = [12]*len(dtlz_problems)\n",
    "dtlz_obj  = [3]*len(dtlz_problems)\n",
    "#ZDT Problems \n",
    "zdt_problems = ['zdt1', 'zdt2', 'zdt3', 'zdt4', 'zdt6']\n",
    "zdt_vars     = [np.nan]*len(zdt_problems)\n",
    "zdt_obj      = [np.nan]*len(zdt_problems)\n",
    "#General Problems\n",
    "general_problems = wfg_problems+ dtlz_problems + zdt_problems\n",
    "general_vars     = wfg_vars + dtlz_vars + zdt_vars\n",
    "general_obj      = wfg_obj + dtlz_obj + zdt_obj"
   ]
  },
  {
   "cell_type": "markdown",
   "metadata": {},
   "source": [
    "Tiempos de ejecución predefinidos"
   ]
  },
  {
   "cell_type": "code",
   "execution_count": null,
   "metadata": {},
   "outputs": [],
   "source": [
    "n_ejec = 20\n",
    "n_gen  = 250"
   ]
  },
  {
   "cell_type": "markdown",
   "metadata": {},
   "source": [
    "# NSGA-II"
   ]
  },
  {
   "cell_type": "markdown",
   "metadata": {},
   "source": [
    "## Baseline "
   ]
  },
  {
   "cell_type": "code",
   "execution_count": null,
   "metadata": {},
   "outputs": [],
   "source": [
    "pymoo_utils.get_solutions_fake(general_problems, general_vars, general_obj, n_ejec, n_gen, 'nsgaii', \n",
    "              {'pop_size':100, 'repair': operators.Simplex_Repair()}, \n",
    "              name_oprt='baseline')"
   ]
  },
  {
   "cell_type": "markdown",
   "metadata": {},
   "source": [
    "## Samplings "
   ]
  },
  {
   "cell_type": "code",
   "execution_count": null,
   "metadata": {},
   "outputs": [],
   "source": [
    "pymoo_utils.get_solutions_fake(general_problems, general_vars, general_obj, n_ejec, n_gen, 'nsgaii', \n",
    "               {'pop_size':100,'sampling': operators.Sampling_Energy(), 'repair': operators.Simplex_Repair()}, \n",
    "               name_oprt='sam_energy')\n",
    "pymoo_utils.get_solutions_fake(general_problems, general_vars, general_obj, n_ejec, n_gen, 'nsgaii', \n",
    "               {'pop_size':100,'sampling': operators.Sampling_Uniform(), 'repair': operators.Simplex_Repair()}, \n",
    "               name_oprt='sam_uniform')\n",
    "pymoo_utils.get_solutions_fake(general_problems, general_vars, general_obj, n_ejec, n_gen, 'nsgaii', \n",
    "               {'pop_size':100,'sampling': operators.Sampling_RED_D(), 'repair': operators.Simplex_Repair()}, \n",
    "               name_oprt='sam_redd')\n",
    "pymoo_utils.get_solutions(general_problems, general_vars, general_obj,n_ejec, n_gen, 'nsgaii', \n",
    "               {'pop_size':100,'sampling': operators.Sampling_MSS_D(), 'repair': operators.Simplex_Repair()}, \n",
    "               name_oprt='sam_mssd')"
   ]
  },
  {
   "cell_type": "markdown",
   "metadata": {},
   "source": [
    "## Mutations"
   ]
  },
  {
   "cell_type": "code",
   "execution_count": null,
   "metadata": {},
   "outputs": [],
   "source": [
    "pymoo_utils.get_solutions_fake(general_problems, general_vars, general_obj, n_ejec, n_gen, 'nsgaii', \n",
    "               {'pop_size':100,'mutation': operators.Probability_Mutation(operators.mut_dirichlet), 'repair': operators.Simplex_Repair()}, \n",
    "               name_oprt='mut_dirichlet')\n",
    "pymoo_utils.get_solutions(general_problems, general_vars, general_obj, n_ejec, n_gen, 'nsgaii', \n",
    "                {'pop_size':100,'mutation': operators.Probability_Mutation(operators.mut_lognormal_transform), 'repair': operators.Simplex_Repair()}, \n",
    "                name_oprt='mut_lognormal')\n",
    "pymoo_utils.get_solutions(general_problems, general_vars, general_obj, n_ejec, n_gen, 'nsgaii', \n",
    "                {'pop_size':100,'mutation': operators.Probability_Mutation(operators.mut_exponential_transform), 'repair': operators.Simplex_Repair()}, \n",
    "                name_oprt='mut_exponential')\n",
    "pymoo_utils.get_solutions(general_problems, general_vars, general_obj, n_ejec, n_gen, 'nsgaii', \n",
    "                {'pop_size':100,'mutation': operators.Probability_Mutation(operators.mut_normal_transform), 'repair': operators.Simplex_Repair()}, \n",
    "                name_oprt='mut_normal')"
   ]
  },
  {
   "cell_type": "markdown",
   "metadata": {},
   "source": [
    "# Review NaN errors"
   ]
  },
  {
   "cell_type": "code",
   "execution_count": 1,
   "metadata": {},
   "outputs": [],
   "source": [
    "def checkingNaNs(problems, oprts, name_algorithm): \n",
    "    count_missing = 0\n",
    "    count_error_shape = 0 \n",
    "    for problem in problems: \n",
    "        for name_oprt in oprts: \n",
    "            Mega_X = np.load('Solutions/'+name_algorithm+'/'+problem+'_'+name_oprt+'_X.npy')\n",
    "            Mega_F = np.load('Solutions/'+name_algorithm+'/'+problem+'_'+name_oprt+'_F.npy')\n",
    "            #print(Mega_X.shape)\n",
    "            #print(Mega_F.shape)\n",
    "            if np.any(Mega_X.shape[:3]!= (20, 250, 100)): \n",
    "                count_error_shape+=1 \n",
    "                print(problem, name_algorithm, name_oprt,'Error shape')\n",
    "            if np.any(Mega_F.shape[:3]!= (20, 250, 100)): \n",
    "                print(problem, name_algorithm, name_oprt, 'Error shape')\n",
    "            if np.any(np.isnan(Mega_X))!=0: \n",
    "                count_missing +=1\n",
    "                print(problem, name_oprt, Mega_X.shape, np.sum(np.isnan(Mega_X)))\n",
    "            if np.any(np.isnan(Mega_F))!=0: \n",
    "                print(problem, name_oprt, Mega_F.shape, np.sum(np.isnan(Mega_F)))\n",
    "    print('Total of Datasets with missingsproblems: ', count_missing)\n",
    "    print('Total of Datasets with incorrection shape: ', count_error_shape)\n",
    "            "
   ]
  },
  {
   "cell_type": "code",
   "execution_count": 5,
   "metadata": {},
   "outputs": [
    {
     "name": "stdout",
     "output_type": "stream",
     "text": [
      "nsgaii\n",
      "Total of Datasets with missingsproblems:  0\n",
      "Total of Datasets with incorrection shape:  0\n"
     ]
    }
   ],
   "source": [
    "algorithms = ['nsgaii'] #'moead' 'age_moea', 'nsgaiii' 'nsgaii'\n",
    "methods = ['baseline', 'sam_energy', 'sam_uniform','sam_redd', 'sam_mssd',\n",
    "           'mut_dirichlet', 'mut_exponential', 'mut_normal', 'mut_lognormal']\n",
    "for algorithm in algorithms: \n",
    "    print(algorithm)\n",
    "    checkingNaNs(wfg_problems+dtlz_problems+zdt_problems, methods,  algorithm)"
   ]
  }
 ],
 "metadata": {
  "kernelspec": {
   "display_name": "Python 3",
   "language": "python",
   "name": "python3"
  },
  "language_info": {
   "codemirror_mode": {
    "name": "ipython",
    "version": 3
   },
   "file_extension": ".py",
   "mimetype": "text/x-python",
   "name": "python",
   "nbconvert_exporter": "python",
   "pygments_lexer": "ipython3",
   "version": "3.10.8"
  },
  "orig_nbformat": 4
 },
 "nbformat": 4,
 "nbformat_minor": 2
}
